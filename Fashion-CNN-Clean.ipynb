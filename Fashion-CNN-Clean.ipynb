{
 "cells": [
  {
   "cell_type": "markdown",
   "metadata": {},
   "source": [
    "### Convolutional Neural Networks in Python with Keras\n",
    "In this tutorial, you’ll learn how to implement Convolutional Neural Networks (CNNs) in Python with Keras, and how to overcome overfitting with dropout.\n",
    "You might have already heard of image or facial recognition or self-driving cars. These are real-life implementations of Convolutional Neural Networks (CNNs). In this blog post, you will learn and understand how to implement these deep, feed-forward artificial neural networks in Keras and also learn how to overcome overfitting with the regularization technique called \"dropout\".\n",
    "\n",
    "More specifically, you'll tackle the following topics in today's tutorial:\n",
    "\n",
    "- You will be introduced to convolutional neural networks;\n",
    "- Then, you'll first try to understand the data. You'll use Python and its libraries to load, explore and analyze your data,\n",
    "-  After that, you'll preprocess your data: you'll learn how to resize, rescale, convert your labels into one-hot encoding vectors and split up your data in training and validation sets;\n",
    "-  With all of this done, you can construct the neural network model: you'll learn how to model the data and form the network. Next, you'll compile, train and evaluate the model, visualizing the accuracy and loss plots;\n",
    "- Then, you will learn about the concept of overfitting and how you can overcome it by adding a dropout layer;\n",
    "- With this information, you can revisit your original model and re-train the model. You'll also re-evaluate your new model and compare the results of both the models;\n",
    "- Next, you'll make predictions on the test data, convert the probabilities into class labels and plot few test samples that your model correctly classified and incorrectly classified;\n",
    "- Finally, you will visualize the classification report which will give you more in-depth intuition about which class was (in)correctly classified by your model.\n",
    "\n",
    "\n",
    "### Convolutional Neural Network: Introduction\n",
    "By now, you might already know about machine learning and deep learning, a computer science branch that studies the design of algorithms that can learn. Deep learning is a subfield of machine learning that is inspired by artificial neural networks, which in turn are inspired by biological neural networks.\n",
    "\n",
    "A specific kind of such a deep neural network is the convolutional network, which is commonly referred to as CNN or ConvNet. It's a deep, feed-forward artificial neural network. Remember that feed-forward neural networks are also called multi-layer perceptrons(MLPs), which are the quintessential deep learning models. The models are called \"feed-forward\" because information flows right through the model. There are no feedback connections in which outputs of the model are fed back into itself.\n",
    "\n",
    "CNNs specifically are inspired by the biological visual cortex. The cortex has small regions of cells that are sensitive to the specific areas of the visual field. This idea was expanded by a captivating experiment done by Hubel and Wiesel in 1962 (if you want to know more, here's a video). In this experiment, the researchers showed that some individual neurons in the brain activated or fired only in the presence of edges of a particular orientation like vertical or horizontal edges. For example, some neurons fired when exposed to vertical sides and some when shown a horizontal edge. Hubel and Wiesel found that all of these neurons were well ordered in a columnar fashion and that together they were able to produce visual perception. This idea of specialized components inside of a system having specific tasks is one that machines use as well and one that you can also find back in CNNs.\n",
    "\n",
    "Convolutional neural networks have been one of the most influential innovations in the field of computer vision. They have performed a lot better than traditional computer vision and have produced state-of-the-art results. These neural networks have proven to be successful in many different real-life case studies and applications, like:\n",
    "\n",
    "- Image classification, object detection, segmentation, face recognition;\n",
    "- Self driving cars that leverage CNN based vision systems;\n",
    "- Classification of crystal structure using a convolutional neural network;\n",
    "- And many more, of course!\n",
    "To understand this success, you'll have to go back to 2012, the year in which Alex Krizhevsky used convolutional neural networks to win that year's ImageNet Competition, reducing the classification error from 26% to 15%.\n",
    "\n",
    "Note that ImageNet Large Scale Visual Recognition Challenge (ILSVRC) began in the year 2010 is an annual competition where research teams assess their algorithms on the given data set and compete to achieve higher accuracy on several visual recognition tasks.\n",
    "\n",
    "This was the time when neural networks regained prominence after quite some time. This is often called the \"third wave of neural networks\". The other two waves were in the 1940s until the 1960s and in the 1970s to 1980s.\n",
    "\n",
    "Alright, you know that you'll be working with feed-forward networks that are inspired by the biological visual cortex, but what does that actually mean?\n",
    "\n",
    "Take a look at the picture:\n",
    "\n",
    "[Convolutional Neural Network](https://commons.wikimedia.org/wiki/File:Typical_cnn.png)\n",
    "\n",
    "The image shows you that you feed an image as an input to the network, which goes through multiple convolutions, subsampling, a fully connected layer and finally outputs something.\n",
    "\n",
    "But what are all these concepts?\n",
    "\n",
    "The convolution layer computes the output of neurons that are connected to local regions or receptive fields in the input, each computing a dot product between their weights and a small receptive field to which they are connected to in the input volume. Each computation leads to extraction of a feature map from the input image. In other words, imagine you have an image represented as a 5x5 matrix of values, and you take a 3x3 matrix and slide that 3x3 window or kernel around the image. At each position of that matrix, you multiply the values of your 3x3 window by the values in the image that are currently being covered by the window. As a result, you'll get a single number that represents all the values in that window of the images. You use this layer to filtering: as the window moves over the image, you check for patterns in that section of the image. This works because of filters, which are multiplied by the values outputted by the convolution.\n",
    "The objective of subsampling is to get an input representation by reducing its dimensions, which helps in reducing overfitting. One of the techniques of subsampling is max pooling. With this technique, you select the highest pixel value from a region depending on its size. In other words, max pooling takes the largest value from the window of the image currently covered by the kernel. For example, you can have a max-pooling layer of size 2 x 2 will select the maximum pixel intensity value from 2 x 2 region. You're right to think that the pooling layer then works a lot like the convolution layer! You also take a kernel or a window and move it over the image; The only difference is the function that is applied to the kernel and the image window isn't linear.\n",
    "\n",
    "\n",
    "[Max Pooling](https://en.wikipedia.org/wiki/Convolutional_neural_network#/media/File:Max_pooling.png)\n",
    "\n",
    "The objective of the fully connected layer is to flatten the high-level features that are learned by convolutional layers and combining all the features. It passes the flattened output to the output layer where you use a softmax classifier or a sigmoid to predict the input class label.\n",
    "For more information, you can go here.\n",
    "\n",
    "\n",
    "### The Fashion-MNIST Data Set\n",
    "Before you go ahead and load in the data, it's good to take a look at what you'll exactly be working with! The Fashion-MNIST dataset is a dataset of Zalando's article images, with 28x28 grayscale images of 70,000 fashion products from 10 categories, and 7,000 images per category. The training set has 60,000 images, and the test set has 10,000 images. You can double check this later when you have loaded in your data! ;)\n",
    "\n",
    "Fashion-MNIST is similar to the MNIST dataset that you might already know, which you use to classify handwritten digits. That means that the image dimensions, training and test splits are similar to the MNIST dataset. Tip: if you want to learn how to implement an Multi-Layer Perceptron (MLP) for classification tasks with this latter dataset, go to this tutorial.\n",
    "\n",
    "You can find the Fashion-MNIST dataset here, but you can also load it with the help of specific TensorFlow and Keras modules. You'll see how this works in the next section!"
   ]
  },
  {
   "cell_type": "markdown",
   "metadata": {},
   "source": [
    "### Load the Data\n",
    "Keras comes with a library called datasets, which you can use to load datasets out of the box: you download the data from the server and speeds up the process since you no longer have to download the data to your computer. The train and test images along with the labels are loaded and stored in variables `train_X`, `train_Y`, `test_X`, `test_Y`, respectively."
   ]
  },
  {
   "cell_type": "markdown",
   "metadata": {},
   "source": [
    "#### Problem 1 \n",
    "- Import the `fashion_mnist` dataset from `keras.datasets`\n",
    "- Load the data into local variables `train_X`, `train_Y`, `test_X`, `test_Y`"
   ]
  },
  {
   "cell_type": "code",
   "execution_count": 1,
   "metadata": {},
   "outputs": [],
   "source": [
    "# Problem 1 Code below\n",
    "\n",
    "#import tensorflow, keras and pandas\n",
    "import tensorflow as tf\n",
    "import keras\n",
    "\n",
    "#import the fashion_mnist dataset\n",
    "from keras.datasets import fashion_mnist\n",
    "\n",
    "#load data into local variables \n",
    "(train_X, train_Y),(test_X, test_Y)=fashion_mnist.load_data()"
   ]
  },
  {
   "cell_type": "markdown",
   "metadata": {},
   "source": [
    "### Analyze the Data\n",
    "Let's now analyze how images in the dataset look like. Even though you know the dimension of the images by now, it's still worth the effort to analyze it programmatically: you might have to rescale the image pixels and resize the images."
   ]
  },
  {
   "cell_type": "code",
   "execution_count": 2,
   "metadata": {},
   "outputs": [
    {
     "name": "stdout",
     "output_type": "stream",
     "text": [
      "Training data shape :  (60000, 28, 28) (60000,)\n",
      "Testing data shape :  (10000, 28, 28) (10000,)\n"
     ]
    }
   ],
   "source": [
    "import numpy as np\n",
    "from keras.utils import to_categorical\n",
    "import matplotlib.pyplot as plt\n",
    "%matplotlib inline\n",
    "\n",
    "print('Training data shape : ', train_X.shape, train_Y.shape)\n",
    "\n",
    "print('Testing data shape : ', test_X.shape, test_Y.shape)"
   ]
  },
  {
   "cell_type": "markdown",
   "metadata": {},
   "source": [
    "From the above output, you can see that the training data has a shape of 60000 x 28 x 28 since there are 60,000 training samples each of 28 x 28 dimension. Similarly, the test data has a shape of 10000 x 28 x 28 since there are 10,000 testing samples."
   ]
  },
  {
   "cell_type": "markdown",
   "metadata": {},
   "source": [
    "#### Problem 2\n",
    "- Find number of unique classes in `train_Y` and print classes"
   ]
  },
  {
   "cell_type": "code",
   "execution_count": 3,
   "metadata": {},
   "outputs": [
    {
     "name": "stdout",
     "output_type": "stream",
     "text": [
      "Total number of outputs :  10\n",
      "Output classes :  [9 0 3 2 7 5 1 6 4 8]\n"
     ]
    }
   ],
   "source": [
    "# Problem 2 Code below:\n",
    "\n",
    "#import pandas to count unique outputs (classes) in the training set\n",
    "import pandas as pd\n",
    "\n",
    "nClasses = len(pd.unique(train_Y))\n",
    "classes = pd.unique(train_Y)\n",
    "\n",
    "print('Total number of outputs : ', nClasses)\n",
    "print('Output classes : ', classes)"
   ]
  },
  {
   "cell_type": "markdown",
   "metadata": {},
   "source": [
    "There's also a total of ten output classes that range from 0 to 9.\n",
    "\n",
    "Also, don't forget to take a look at what the images in your dataset:"
   ]
  },
  {
   "cell_type": "code",
   "execution_count": 4,
   "metadata": {},
   "outputs": [
    {
     "data": {
      "text/plain": [
       "Text(0.5, 1.0, 'Ground Truth : 9')"
      ]
     },
     "execution_count": 4,
     "metadata": {},
     "output_type": "execute_result"
    },
    {
     "data": {
      "image/png": "[encoded data removed]",
      "text/plain": [
       "<Figure size 360x360 with 2 Axes>"
      ]
     },
     "metadata": {
      "needs_background": "light"
     },
     "output_type": "display_data"
    }
   ],
   "source": [
    "plt.figure(figsize=[5,5])\n",
    "\n",
    "# Display the first image in training data\n",
    "plt.subplot(121)\n",
    "plt.imshow(train_X[0,:,:], cmap='gray')\n",
    "plt.title(\"Ground Truth : {}\".format(train_Y[0]))\n",
    "\n",
    "# Display the first image in testing data\n",
    "plt.subplot(122)\n",
    "plt.imshow(test_X[0,:,:], cmap='gray')\n",
    "plt.title(\"Ground Truth : {}\".format(test_Y[0]))"
   ]
  },
  {
   "cell_type": "markdown",
   "metadata": {},
   "source": [
    "The output of above two plots looks like an ankle boot, and this class is assigned a class label of 9. Similarly, other fashion products will have different labels, but similar products will have same labels. This means that all the 7,000 ankle boot images will have a class label of 9."
   ]
  },
  {
   "cell_type": "markdown",
   "metadata": {},
   "source": [
    "### Data Preprocessing\n",
    "As you could see in the above plot, the images are grayscale images have pixel values that range from 0 to 255. Also, these images have a dimension of 28 x 28. As a result, you'll need to preprocess the data before you feed it into the model. \n",
    "\n",
    "As a first step, convert each 28 x 28 image of the train and test set into a matrix of size 28 x 28 x 1 which is fed into the network."
   ]
  },
  {
   "cell_type": "markdown",
   "metadata": {},
   "source": [
    "#### Problem 3\n",
    "- Reshape `train_X` and `test_X` into (28, 28, 1)"
   ]
  },
  {
   "cell_type": "code",
   "execution_count": 5,
   "metadata": {},
   "outputs": [
    {
     "data": {
      "text/plain": [
       "((60000, 28, 28, 1), (10000, 28, 28, 1))"
      ]
     },
     "execution_count": 5,
     "metadata": {},
     "output_type": "execute_result"
    }
   ],
   "source": [
    "# Problem 3 Code below\n",
    "\n",
    "train_X = np.reshape(train_X, (-1, 28, 28, 1))\n",
    "test_X = np.reshape(test_X, (-1, 28, 28, 1))\n",
    "\n",
    "\n",
    "train_X.shape, test_X.shape"
   ]
  },
  {
   "cell_type": "markdown",
   "metadata": {},
   "source": [
    "The data right now is in an int8 format, so before you feed it into the network you need to convert its type to float32, and you also have to rescale the pixel values in range 0 - 1 inclusive. So let's do that!"
   ]
  },
  {
   "cell_type": "markdown",
   "metadata": {},
   "source": [
    "#### Problem 4\n",
    "- Convert `train_X` and `test_X` into `float32`\n",
    "- Max (255) normalize `train_X` and `test_X`"
   ]
  },
  {
   "cell_type": "code",
   "execution_count": 6,
   "metadata": {},
   "outputs": [
    {
     "data": {
      "text/plain": [
       "((60000, 28, 28, 1), (10000, 28, 28, 1))"
      ]
     },
     "execution_count": 6,
     "metadata": {},
     "output_type": "execute_result"
    }
   ],
   "source": [
    "# Problem 4 Code below\n",
    "\n",
    "train_X = train_X.astype(np.float32)\n",
    "train_X = train_X/255\n",
    "\n",
    "test_X = test_X.astype(np.float32)\n",
    "test_X = test_X/255\n",
    "\n",
    "train_X.shape, test_X.shape \n"
   ]
  },
  {
   "cell_type": "markdown",
   "metadata": {},
   "source": [
    "Now you need to convert the class labels into a one-hot encoding vector.\n",
    "In one-hot encoding, you convert the categorical data into a vector of numbers. The reason why you convert the categorical data in one hot encoding is that machine learning algorithms cannot work with categorical data directly. You generate one boolean column for each category or class. Only one of these columns could take on the value 1 for each sample. Hence, the term one-hot encoding.\n",
    "\n",
    "For your problem statement, the one hot encoding will be a row vector, and for each image, it will have a dimension of 1 x 10. The important thing to note here is that the vector consists of all zeros except for the class that it represents, and for that, it is 1. For example, the ankle boot image that you plotted above has a label of 9, so for all the ankle boot images, the one hot encoding vector would be [0 0 0 0 0 0 0 0 1 0].\n",
    "\n",
    "So let's convert the training and testing labels into one-hot encoding vectors:"
   ]
  },
  {
   "cell_type": "markdown",
   "metadata": {},
   "source": [
    "#### Problem 5 \n",
    "- Change the labels from categorical to one-hot encoding\n",
    "- Use variables `train_Y_one_hot` and `test_Y_one_hot`"
   ]
  },
  {
   "cell_type": "code",
   "execution_count": 7,
   "metadata": {},
   "outputs": [
    {
     "name": "stdout",
     "output_type": "stream",
     "text": [
      "Original label: 5\n",
      "After conversion to one-hot: [0. 0. 0. 0. 0. 1. 0. 0. 0. 0.]\n"
     ]
    }
   ],
   "source": [
    "# Problem 5 Code below\n",
    "from keras.utils import to_categorical\n",
    "\n",
    "# wow, I love this function\n",
    "\n",
    "train_Y_one_hot = to_categorical(train_Y, nClasses)\n",
    "test_Y_one_hot = to_categorical(test_Y, nClasses)\n",
    "\n",
    "\n",
    "# Display the change for category label using one-hot encoding\n",
    "print('Original label:', train_Y[300])\n",
    "print('After conversion to one-hot:', train_Y_one_hot[300])"
   ]
  },
  {
   "cell_type": "markdown",
   "metadata": {},
   "source": [
    "That's pretty clear, right? Note that you can also print the train_Y_one_hot, which will display a matrix of size 60000 x 10 in which each row depicts one-hot encoding of an image.\n",
    "\n",
    "This last step is a crucial one. In machine learning or any data specific task, you should partition the data correctly. For the model to generalize well, you split the training data into two parts, one designed for training and another one for validation. In this case, you will train the model on 80\\% of the training data and validate it on 20\\% of the remaining training data. This will also help to reduce overfitting since you will be validating the model on the data it would not have seen in training phase, which will help in boosting the test performance."
   ]
  },
  {
   "cell_type": "markdown",
   "metadata": {},
   "source": [
    "#### Problem 6 \n",
    "- Split training and testing into `train_X`, `valid_X`, `train_label`, `valid_label`\n",
    "- Use 20% of your dataset as testing and `random_state=13`"
   ]
  },
  {
   "cell_type": "code",
   "execution_count": 8,
   "metadata": {},
   "outputs": [],
   "source": [
    "# Problem 6 Code below\n",
    "\n",
    "# import my other favorite function\n",
    "from sklearn.model_selection import train_test_split \n",
    "\n",
    "X, y = train_X, train_Y_one_hot\n",
    "training_X,valid_X,training_label,valid_label = train_test_split(X,\n",
    "                                                                 y,\n",
    "                                                                 test_size=0.2,\n",
    "                                                                 random_state=13) "
   ]
  },
  {
   "cell_type": "markdown",
   "metadata": {},
   "source": [
    "For one last time let's check the shape of training and validation set."
   ]
  },
  {
   "cell_type": "code",
   "execution_count": 9,
   "metadata": {},
   "outputs": [
    {
     "data": {
      "text/plain": [
       "((48000, 28, 28, 1), (12000, 28, 28, 1), (48000, 10), (12000, 10))"
      ]
     },
     "execution_count": 9,
     "metadata": {},
     "output_type": "execute_result"
    }
   ],
   "source": [
    "training_X.shape,valid_X.shape,training_label.shape,valid_label.shape"
   ]
  },
  {
   "cell_type": "markdown",
   "metadata": {},
   "source": [
    "### The Network\n",
    "The images are of size 28 x 28. You convert the image matrix to an array, rescale it between 0 and 1, reshape it so that it's of size 28 x 28 x 1, and feed this as an input to the network.\n",
    "\n",
    "You'll use three convolutional layers:\n",
    "\n",
    "- The first layer will have 32-3 x 3 filters,\n",
    "- The second layer will have 64-3 x 3 filters and\n",
    "- The third layer will have 128-3 x 3 filters.\n",
    "- In addition, there are three max-pooling layers each of size 2 x 2."
   ]
  },
  {
   "cell_type": "markdown",
   "metadata": {},
   "source": [
    "[Network Architecture](http://res.cloudinary.com/dyd911kmh/image/upload/f_auto,q_auto:best/v1512486717/fashion-mnist-architecture_htbpsz.png)"
   ]
  },
  {
   "cell_type": "markdown",
   "metadata": {},
   "source": [
    "### Model the Data\n",
    "First, let's import all the necessary modules required to train the model."
   ]
  },
  {
   "cell_type": "code",
   "execution_count": 10,
   "metadata": {},
   "outputs": [],
   "source": [
    "import keras\n",
    "from keras.models import Sequential,Input,Model\n",
    "from keras.layers import Dense, Dropout, Flatten\n",
    "from keras.layers import Conv2D, MaxPooling2D\n",
    "from keras.layers import Activation\n",
    "from keras.layers.normalization import BatchNormalization\n",
    "from keras.layers.advanced_activations import LeakyReLU"
   ]
  },
  {
   "cell_type": "markdown",
   "metadata": {},
   "source": [
    "You will use a batch size of 64 using a higher batch size of 128 or 256 is also preferable it all depends on the memory. It contributes massively to determining the learning parameters and affects the prediction accuracy. You will train the network for 10 epochs (for runtime purposes)."
   ]
  },
  {
   "cell_type": "code",
   "execution_count": 11,
   "metadata": {},
   "outputs": [],
   "source": [
    "batch_size = 64\n",
    "epochs = 10\n",
    "num_classes = 10"
   ]
  },
  {
   "cell_type": "markdown",
   "metadata": {},
   "source": [
    "### Neural Network Architecture\n",
    "In Keras, you can just stack up layers by adding the desired layer one by one. That's exactly what you'll do here: you'll first add a first convolutional layer with Conv2D(). Note that you use this function because you're working with images! Next, you add the Leaky ReLU activation function which helps the network learn non-linear decision boundaries. Since you have ten different classes, you'll need a non-linear decision boundary that could separate these ten classes which are not linearly separable.\n",
    "\n",
    "More specifically, you add Leaky ReLUs because they attempt to fix the problem of dying Rectified Linear Units (ReLUs). The ReLU activation function is used a lot in neural network architectures and more specifically in convolutional networks, where it has proven to be more effective than the widely used logistic sigmoid function. As of 2017, this activation function is the most popular one for deep neural networks. The ReLU function allows the activation to be thresholded at zero. However, during the training, ReLU units can \"die\". This can happen when a large gradient flows through a ReLU neuron: it can cause the weights to update in such a way that the neuron will never activate on any data point again. If this happens, then the gradient flowing through the unit will forever be zero from that point on. Leaky ReLUs attempt to solve this: the function will not be zero but will instead have a small negative slope.\n",
    "\n",
    "Next, you'll add the max-pooling layer with MaxPooling2D() and so on. The last layer is a Dense layer that has a softmax activation function with 10 units, which is needed for this multi-class classification problem.\n",
    "\n"
   ]
  },
  {
   "cell_type": "markdown",
   "metadata": {},
   "source": [
    "#### Problem 7 \n",
    "- Define the Keras model as `fashion_model`\n",
    "- Follow the Network Architecture defined [here](http://res.cloudinary.com/dyd911kmh/image/upload/f_auto,q_auto:best/v1512486717/fashion-mnist-architecture_htbpsz.png)\n",
    "- You will need to use the following Keras functions:\n",
    "    - `Sequential`\n",
    "    - `Conv2D`\n",
    "    - `LeakyReLU`\n",
    "    - `MaxPooling2D`\n",
    "    - `Flatten`\n",
    "    - `Dense`\n",
    "- Hint: Check out the model summary below"
   ]
  },
  {
   "cell_type": "code",
   "execution_count": 12,
   "metadata": {},
   "outputs": [],
   "source": [
    "# Problem 7 Code below\n",
    "\n",
    "fashion_model = Sequential()\n",
    "fashion_model.add(Conv2D(32, (3,3), padding='same', input_shape=training_X.shape[1:]))\n",
    "fashion_model.add(LeakyReLU(alpha=0.1))\n",
    "fashion_model.add(MaxPooling2D(pool_size=(2,2), padding='same')) # max pooling 1\n",
    "fashion_model.add(Conv2D(64, (3,3), padding='same'))\n",
    "fashion_model.add(LeakyReLU(alpha=0.1))\n",
    "fashion_model.add(MaxPooling2D(pool_size=(2,2), padding='same')) # max pooling 2\n",
    "fashion_model.add(Conv2D(128, (3,3), padding='same'))\n",
    "fashion_model.add(LeakyReLU(alpha=0.1))\n",
    "fashion_model.add(MaxPooling2D(pool_size=(2,2), padding='same')) # max pooling 3\n",
    "fashion_model.add(Flatten())\n",
    "fashion_model.add(Dense(128)) # I have 65664 parameters for this layer, while the class model has 262272 \n",
    "fashion_model.add(LeakyReLU(alpha=0.1))\n",
    "fashion_model.add(Dense(num_classes)) # num_classes was defined above, and we also have nClasses\n",
    "fashion_model.add(Activation('softmax'))"
   ]
  },
  {
   "cell_type": "markdown",
   "metadata": {},
   "source": [
    "### Compile the Model\n",
    "After the model is created, you compile it using the Adam optimizer, one of the most popular optimization algorithms. You can read more about this optimizer here. Additionally, you specify the loss type which is categorical cross entropy which is used for multi-class classification, you can also use binary cross-entropy as the loss function. Lastly, you specify the metrics as accuracy which you want to analyze while the model is training."
   ]
  },
  {
   "cell_type": "markdown",
   "metadata": {},
   "source": [
    "#### Problem 8\n",
    "- Compile `fashion_model` using `categorical_crossentropy` and the `Adam` optimizer"
   ]
  },
  {
   "cell_type": "code",
   "execution_count": 13,
   "metadata": {},
   "outputs": [],
   "source": [
    "# Problem 8 Code below\n",
    "\n",
    "fashion_model.compile(optimizer='adam', # my little brother\n",
    "                     loss='categorical_crossentropy',\n",
    "                     metrics=['accuracy'])"
   ]
  },
  {
   "cell_type": "markdown",
   "metadata": {},
   "source": [
    "Let's visualize the layers that you created in the above step by using the summary function. This will show some parameters (weights and biases) in each layer and also the total parameters in your model."
   ]
  },
  {
   "cell_type": "code",
   "execution_count": 14,
   "metadata": {},
   "outputs": [
    {
     "name": "stdout",
     "output_type": "stream",
     "text": [
      "Model: \"sequential\"\n",
      "_________________________________________________________________\n",
      "Layer (type)                 Output Shape              Param #   \n",
      "=================================================================\n",
      "conv2d (Conv2D)              (None, 28, 28, 32)        320       \n",
      "_________________________________________________________________\n",
      "leaky_re_lu (LeakyReLU)      (None, 28, 28, 32)        0         \n",
      "_________________________________________________________________\n",
      "max_pooling2d (MaxPooling2D) (None, 14, 14, 32)        0         \n",
      "_________________________________________________________________\n",
      "conv2d_1 (Conv2D)            (None, 14, 14, 64)        18496     \n",
      "_________________________________________________________________\n",
      "leaky_re_lu_1 (LeakyReLU)    (None, 14, 14, 64)        0         \n",
      "_________________________________________________________________\n",
      "max_pooling2d_1 (MaxPooling2 (None, 7, 7, 64)          0         \n",
      "_________________________________________________________________\n",
      "conv2d_2 (Conv2D)            (None, 7, 7, 128)         73856     \n",
      "_________________________________________________________________\n",
      "leaky_re_lu_2 (LeakyReLU)    (None, 7, 7, 128)         0         \n",
      "_________________________________________________________________\n",
      "max_pooling2d_2 (MaxPooling2 (None, 4, 4, 128)         0         \n",
      "_________________________________________________________________\n",
      "flatten (Flatten)            (None, 2048)              0         \n",
      "_________________________________________________________________\n",
      "dense (Dense)                (None, 128)               262272    \n",
      "_________________________________________________________________\n",
      "leaky_re_lu_3 (LeakyReLU)    (None, 128)               0         \n",
      "_________________________________________________________________\n",
      "dense_1 (Dense)              (None, 10)                1290      \n",
      "_________________________________________________________________\n",
      "activation (Activation)      (None, 10)                0         \n",
      "=================================================================\n",
      "Total params: 356,234\n",
      "Trainable params: 356,234\n",
      "Non-trainable params: 0\n",
      "_________________________________________________________________\n"
     ]
    }
   ],
   "source": [
    "fashion_model.summary() # mine differs from the class model in no. of parameters in the first Dense layer"
   ]
  },
  {
   "cell_type": "markdown",
   "metadata": {},
   "source": [
    "### Train the Model\n",
    "It's finally time to train the model with Keras' `fit()` function! The model trains for 20 epochs. The `fit()` function will return a history object; By storing the result of this function in fashion_train, you can use it later to plot the accuracy and loss function plots between training and validation which will help you to analyze your model's performance visually.\n",
    "- Note that this will take approximately 20 minutes to run"
   ]
  },
  {
   "cell_type": "markdown",
   "metadata": {},
   "source": [
    "#### Problem 9 \n",
    "* Fit the model with `train_X` and `train_label`\n",
    "* Use `batch_size`, `epochs`, and you validation data as well (`valid_X`, `valid_label`)\n",
    "* Write output to `fashion_train`"
   ]
  },
  {
   "cell_type": "code",
   "execution_count": 15,
   "metadata": {},
   "outputs": [
    {
     "name": "stdout",
     "output_type": "stream",
     "text": [
      "Epoch 1/10\n",
      "1500/1500 [==============================] - 80s 53ms/step - loss: 0.4244 - accuracy: 0.8452 - val_loss: 0.3063 - val_accuracy: 0.8860\n",
      "Epoch 2/10\n",
      "1500/1500 [==============================] - 80s 54ms/step - loss: 0.2683 - accuracy: 0.9018 - val_loss: 0.2552 - val_accuracy: 0.9051\n",
      "Epoch 3/10\n",
      "1500/1500 [==============================] - 81s 54ms/step - loss: 0.2235 - accuracy: 0.9175 - val_loss: 0.2607 - val_accuracy: 0.9090\n",
      "Epoch 4/10\n",
      "1500/1500 [==============================] - 82s 54ms/step - loss: 0.1915 - accuracy: 0.9287 - val_loss: 0.2457 - val_accuracy: 0.9066\n",
      "Epoch 5/10\n",
      "1500/1500 [==============================] - 88s 59ms/step - loss: 0.1633 - accuracy: 0.9387 - val_loss: 0.2343 - val_accuracy: 0.9202\n",
      "Epoch 6/10\n",
      "1500/1500 [==============================] - 86s 57ms/step - loss: 0.1415 - accuracy: 0.9462 - val_loss: 0.2583 - val_accuracy: 0.9145\n",
      "Epoch 7/10\n",
      "1500/1500 [==============================] - 87s 58ms/step - loss: 0.1178 - accuracy: 0.9549 - val_loss: 0.2420 - val_accuracy: 0.9189\n",
      "Epoch 8/10\n",
      "1500/1500 [==============================] - 85s 57ms/step - loss: 0.1009 - accuracy: 0.9611 - val_loss: 0.2603 - val_accuracy: 0.9224\n",
      "Epoch 9/10\n",
      "1500/1500 [==============================] - 85s 57ms/step - loss: 0.0884 - accuracy: 0.9663 - val_loss: 0.2770 - val_accuracy: 0.9247\n",
      "Epoch 10/10\n",
      "1500/1500 [==============================] - 87s 58ms/step - loss: 0.0740 - accuracy: 0.9716 - val_loss: 0.3155 - val_accuracy: 0.9165\n"
     ]
    }
   ],
   "source": [
    "# Problem 9 Code below\n",
    "\n",
    "\n",
    "fashion_train = fashion_model.fit(training_X,\n",
    "                              training_label,\n",
    "                              batch_size=32,\n",
    "                              epochs=10,\n",
    "                              verbose=1,\n",
    "                              validation_data=(valid_X,valid_label))\n",
    "                "
   ]
  },
  {
   "cell_type": "markdown",
   "metadata": {},
   "source": [
    "Finally! You trained the model on fashion-MNIST for 10 epochs, and by observing the training accuracy and loss, you can say that the model did a good job since after 10 epochs the training accuracy is 97% and the training loss is quite low.\n",
    "\n",
    "However, it looks like the model is overfitting, as the validation accuracy is 92%. Overfitting gives an intuition that the network has memorized the training data very well but is not guaranteed to work on unseen data, and that is why there is a difference in the training and validation accuracy.\n",
    "\n",
    "You probably need to handle this. In next sections, you'll learn how you can make your model perform much better by adding a Dropout layer into the network and keeping all the other layers unchanged.\n",
    "\n",
    "But first, let's evaluate the performance of your model on the test set before you come on to a conclusion."
   ]
  },
  {
   "cell_type": "markdown",
   "metadata": {},
   "source": [
    "### Model Evaluation on the Test Set"
   ]
  },
  {
   "cell_type": "markdown",
   "metadata": {},
   "source": [
    "#### Problem 10\n",
    "* Evaluate `fashion_model` below on `test_X` and `test_Y_one_hot`"
   ]
  },
  {
   "cell_type": "code",
   "execution_count": 16,
   "metadata": {},
   "outputs": [
    {
     "name": "stdout",
     "output_type": "stream",
     "text": [
      "313/313 [==============================] - 4s 12ms/step - loss: 0.3287 - accuracy: 0.9135\n"
     ]
    }
   ],
   "source": [
    "# Problem 10 Code below\n",
    "\n",
    "test_eval = fashion_model.evaluate(test_X,\n",
    "                                   test_Y_one_hot,\n",
    "                                   batch_size=32)\n"
   ]
  },
  {
   "cell_type": "code",
   "execution_count": 17,
   "metadata": {},
   "outputs": [
    {
     "name": "stdout",
     "output_type": "stream",
     "text": [
      "Test loss: 0.3286651074886322\n",
      "Test accuracy: 0.9135000109672546\n"
     ]
    }
   ],
   "source": [
    "print('Test loss:', test_eval[0])\n",
    "print('Test accuracy:', test_eval[1])"
   ]
  },
  {
   "cell_type": "markdown",
   "metadata": {},
   "source": [
    "The test accuracy looks impressive. It turns out that your classifier does better than the benchmark that was reported here, which is an SVM classifier with mean accuracy of 0.897. Also, the model does well compared to some of the deep learning models mentioned on the GitHub profile of the creators of fashion-MNIST dataset.\n",
    "\n",
    "However, you saw that the model looked like it was overfitting. Are these results really all that good?\n",
    "\n",
    "Let's put your model evaluation into perspective and plot the accuracy and loss plots between training and validation data:"
   ]
  },
  {
   "cell_type": "code",
   "execution_count": 18,
   "metadata": {},
   "outputs": [
    {
     "data": {
      "image/png": "[encoded data removed]",
      "text/plain": [
       "<Figure size 432x288 with 1 Axes>"
      ]
     },
     "metadata": {
      "needs_background": "light"
     },
     "output_type": "display_data"
    },
    {
     "data": {
      "image/png": "[encoded data removed]",
      "text/plain": [
       "<Figure size 432x288 with 1 Axes>"
      ]
     },
     "metadata": {
      "needs_background": "light"
     },
     "output_type": "display_data"
    }
   ],
   "source": [
    "accuracy = fashion_train.history['accuracy']\n",
    "val_accuracy = fashion_train.history['val_accuracy']\n",
    "loss = fashion_train.history['loss']\n",
    "val_loss = fashion_train.history['val_loss']\n",
    "epochs = range(len(accuracy))\n",
    "plt.plot(epochs, accuracy, 'bo', label='Training accuracy')\n",
    "plt.plot(epochs, val_accuracy, 'b', label='Validation accuracy')\n",
    "plt.title('Training and validation accuracy')\n",
    "plt.legend()\n",
    "plt.figure()\n",
    "plt.plot(epochs, loss, 'bo', label='Training loss')\n",
    "plt.plot(epochs, val_loss, 'b', label='Validation loss')\n",
    "plt.title('Training and validation loss')\n",
    "plt.legend()\n",
    "plt.show()"
   ]
  },
  {
   "cell_type": "markdown",
   "metadata": {},
   "source": [
    "From the above two plots, you can see that the validation accuracy almost became stagnant after 4-5 epochs and rarely increased at certain epochs. In the beginning, the validation accuracy was linearly increasing with loss, but then it did not increase much.\n",
    "\n",
    "The validation loss shows that this is the sign of overfitting, similar to validation accuracy it linearly decreased but after 4-5 epochs, it started to increase. This means that the model tried to memorize the data and succeeded.\n",
    "\n",
    "With this in mind, it's time to introduce some dropout into our model and see if it helps in reducing overfitting."
   ]
  },
  {
   "cell_type": "markdown",
   "metadata": {},
   "source": [
    "### Adding Dropout into the Network\n",
    "You can add a dropout layer to overcome the problem of overfitting to some extent. Dropout randomly turns off a fraction of neurons during the training process, reducing the dependency on the training set by some amount. How many fractions of neurons you want to turn off is decided by a hyperparameter, which can be tuned accordingly. This way, turning off some neurons will not allow the network to memorize the training data since not all the neurons will be active at the same time and the inactive neurons will not be able to learn anything.\n",
    "\n",
    "So let's create, compile and train the network again but this time with dropout. And run it for 20 epochs with a batch size of 64.\n",
    "\n"
   ]
  },
  {
   "cell_type": "code",
   "execution_count": 19,
   "metadata": {},
   "outputs": [],
   "source": [
    "batch_size = 64\n",
    "epochs = 20\n",
    "num_classes = 10"
   ]
  },
  {
   "cell_type": "markdown",
   "metadata": {},
   "source": [
    "#### Problem 11\n",
    "* Reuse `fashion_model` defintion from Problem 7\n",
    "* Add Dropout layers \n",
    "    * Add 25% Dropout after first 2 Max Pooling Layers\n",
    "    * Add 40% Dropout after last Max Pooling Layer\n",
    "    * Add 30% Dropout after last Leaky ReLU Layer"
   ]
  },
  {
   "cell_type": "code",
   "execution_count": 20,
   "metadata": {},
   "outputs": [],
   "source": [
    "# Problem 11 Code below\n",
    "\n",
    "fashion_model = Sequential()\n",
    "fashion_model.add(Conv2D(32, (3,3), padding='same', input_shape=training_X.shape[1:]))\n",
    "fashion_model.add(LeakyReLU(alpha=0.1))\n",
    "fashion_model.add(MaxPooling2D(pool_size=(2,2), padding='same')) # max pooling 1\n",
    "fashion_model.add(Conv2D(64, (3,3), padding='same'))\n",
    "fashion_model.add(LeakyReLU(alpha=0.1))\n",
    "fashion_model.add(MaxPooling2D(pool_size=(2,2), padding='same')) # max pooling 2\n",
    "fashion_model.add(Dropout(0.25)) # adding 25% Dropout\n",
    "fashion_model.add(Conv2D(128, (3,3), padding='same')) \n",
    "fashion_model.add(LeakyReLU(alpha=0.1))\n",
    "fashion_model.add(MaxPooling2D(pool_size=(2,2), padding='same')) # max pooling 3\n",
    "fashion_model.add(Dropout(0.40)) # adding 40% Dropout\n",
    "fashion_model.add(Flatten())\n",
    "fashion_model.add(Dense(128)) # I have 65664 parameters for this layer, while the class model has 262272 \n",
    "fashion_model.add(LeakyReLU(alpha=0.1))\n",
    "fashion_model.add(Dropout(0.30)) # adding 30% Dropout\n",
    "fashion_model.add(Dense(nClasses))\n",
    "fashion_model.add(Activation('softmax'))\n"
   ]
  },
  {
   "cell_type": "code",
   "execution_count": 21,
   "metadata": {},
   "outputs": [
    {
     "name": "stdout",
     "output_type": "stream",
     "text": [
      "Model: \"sequential_1\"\n",
      "_________________________________________________________________\n",
      "Layer (type)                 Output Shape              Param #   \n",
      "=================================================================\n",
      "conv2d_3 (Conv2D)            (None, 28, 28, 32)        320       \n",
      "_________________________________________________________________\n",
      "leaky_re_lu_4 (LeakyReLU)    (None, 28, 28, 32)        0         \n",
      "_________________________________________________________________\n",
      "max_pooling2d_3 (MaxPooling2 (None, 14, 14, 32)        0         \n",
      "_________________________________________________________________\n",
      "conv2d_4 (Conv2D)            (None, 14, 14, 64)        18496     \n",
      "_________________________________________________________________\n",
      "leaky_re_lu_5 (LeakyReLU)    (None, 14, 14, 64)        0         \n",
      "_________________________________________________________________\n",
      "max_pooling2d_4 (MaxPooling2 (None, 7, 7, 64)          0         \n",
      "_________________________________________________________________\n",
      "dropout (Dropout)            (None, 7, 7, 64)          0         \n",
      "_________________________________________________________________\n",
      "conv2d_5 (Conv2D)            (None, 7, 7, 128)         73856     \n",
      "_________________________________________________________________\n",
      "leaky_re_lu_6 (LeakyReLU)    (None, 7, 7, 128)         0         \n",
      "_________________________________________________________________\n",
      "max_pooling2d_5 (MaxPooling2 (None, 4, 4, 128)         0         \n",
      "_________________________________________________________________\n",
      "dropout_1 (Dropout)          (None, 4, 4, 128)         0         \n",
      "_________________________________________________________________\n",
      "flatten_1 (Flatten)          (None, 2048)              0         \n",
      "_________________________________________________________________\n",
      "dense_2 (Dense)              (None, 128)               262272    \n",
      "_________________________________________________________________\n",
      "leaky_re_lu_7 (LeakyReLU)    (None, 128)               0         \n",
      "_________________________________________________________________\n",
      "dropout_2 (Dropout)          (None, 128)               0         \n",
      "_________________________________________________________________\n",
      "dense_3 (Dense)              (None, 10)                1290      \n",
      "_________________________________________________________________\n",
      "activation_1 (Activation)    (None, 10)                0         \n",
      "=================================================================\n",
      "Total params: 356,234\n",
      "Trainable params: 356,234\n",
      "Non-trainable params: 0\n",
      "_________________________________________________________________\n"
     ]
    }
   ],
   "source": [
    "fashion_model.summary()"
   ]
  },
  {
   "cell_type": "code",
   "execution_count": 22,
   "metadata": {},
   "outputs": [],
   "source": [
    "fashion_model.compile(loss=keras.losses.categorical_crossentropy,\n",
    "                      optimizer=keras.optimizers.Adam(),\n",
    "                      metrics=['accuracy'])"
   ]
  },
  {
   "cell_type": "code",
   "execution_count": 23,
   "metadata": {},
   "outputs": [
    {
     "name": "stdout",
     "output_type": "stream",
     "text": [
      "Epoch 1/20\n",
      "750/750 [==============================] - 76s 101ms/step - loss: 0.5623 - accuracy: 0.7935 - val_loss: 0.3695 - val_accuracy: 0.8628\n",
      "Epoch 2/20\n",
      "750/750 [==============================] - 74s 98ms/step - loss: 0.3573 - accuracy: 0.8698 - val_loss: 0.3102 - val_accuracy: 0.8867\n",
      "Epoch 3/20\n",
      "750/750 [==============================] - 74s 99ms/step - loss: 0.3104 - accuracy: 0.8841 - val_loss: 0.2737 - val_accuracy: 0.8983\n",
      "Epoch 4/20\n",
      "750/750 [==============================] - 74s 99ms/step - loss: 0.2803 - accuracy: 0.8966 - val_loss: 0.2666 - val_accuracy: 0.9007\n",
      "Epoch 5/20\n",
      "750/750 [==============================] - 81s 108ms/step - loss: 0.2630 - accuracy: 0.9015 - val_loss: 0.2448 - val_accuracy: 0.9100\n",
      "Epoch 6/20\n",
      "750/750 [==============================] - 80s 107ms/step - loss: 0.2471 - accuracy: 0.9081 - val_loss: 0.2339 - val_accuracy: 0.9130\n",
      "Epoch 7/20\n",
      "750/750 [==============================] - 82s 109ms/step - loss: 0.2352 - accuracy: 0.9122 - val_loss: 0.2254 - val_accuracy: 0.9189\n",
      "Epoch 8/20\n",
      "750/750 [==============================] - 77s 102ms/step - loss: 0.2259 - accuracy: 0.9159 - val_loss: 0.2176 - val_accuracy: 0.9212\n",
      "Epoch 9/20\n",
      "750/750 [==============================] - 75s 101ms/step - loss: 0.2188 - accuracy: 0.9176 - val_loss: 0.2212 - val_accuracy: 0.9208\n",
      "Epoch 10/20\n",
      "750/750 [==============================] - 75s 100ms/step - loss: 0.2072 - accuracy: 0.9210 - val_loss: 0.2138 - val_accuracy: 0.9210\n",
      "Epoch 11/20\n",
      "750/750 [==============================] - 76s 101ms/step - loss: 0.2031 - accuracy: 0.9243 - val_loss: 0.2070 - val_accuracy: 0.9267\n",
      "Epoch 12/20\n",
      "750/750 [==============================] - 75s 100ms/step - loss: 0.1949 - accuracy: 0.9262 - val_loss: 0.2136 - val_accuracy: 0.9208\n",
      "Epoch 13/20\n",
      "750/750 [==============================] - 76s 101ms/step - loss: 0.1911 - accuracy: 0.9273 - val_loss: 0.2154 - val_accuracy: 0.9227\n",
      "Epoch 14/20\n",
      "750/750 [==============================] - 77s 102ms/step - loss: 0.1839 - accuracy: 0.9306 - val_loss: 0.2036 - val_accuracy: 0.9282\n",
      "Epoch 15/20\n",
      "750/750 [==============================] - 81s 108ms/step - loss: 0.1774 - accuracy: 0.9321 - val_loss: 0.2153 - val_accuracy: 0.9226\n",
      "Epoch 16/20\n",
      "750/750 [==============================] - 77s 102ms/step - loss: 0.1779 - accuracy: 0.9326 - val_loss: 0.2054 - val_accuracy: 0.9275\n",
      "Epoch 17/20\n",
      "750/750 [==============================] - 76s 102ms/step - loss: 0.1714 - accuracy: 0.9355 - val_loss: 0.2082 - val_accuracy: 0.9254\n",
      "Epoch 18/20\n",
      "750/750 [==============================] - 77s 102ms/step - loss: 0.1685 - accuracy: 0.9354 - val_loss: 0.2015 - val_accuracy: 0.9300\n",
      "Epoch 19/20\n",
      "750/750 [==============================] - 77s 102ms/step - loss: 0.1639 - accuracy: 0.9380 - val_loss: 0.2097 - val_accuracy: 0.9256\n",
      "Epoch 20/20\n",
      "750/750 [==============================] - 78s 104ms/step - loss: 0.1617 - accuracy: 0.9377 - val_loss: 0.2049 - val_accuracy: 0.9302\n"
     ]
    }
   ],
   "source": [
    "fashion_train_dropout = fashion_model.fit(training_X,\n",
    "                                          training_label,\n",
    "                                          batch_size=batch_size,\n",
    "                                          epochs=epochs,\n",
    "                                          verbose=1,\n",
    "                                          validation_data=(valid_X, valid_label))"
   ]
  },
  {
   "cell_type": "markdown",
   "metadata": {},
   "source": [
    "Let's save the model so that you can directly load it and not have to train it again for 20 epochs. This way, you can load the model later on if you need it and modify the architecture; Alternatively, you can start the training process on this saved model. It is always a good idea to save the model -and even the model's weights!- because it saves you time. Note that you can also save the model after every epoch so that, if some issue occurs that stops the training at an epoch, you will not have to start the training from the beginning.m"
   ]
  },
  {
   "cell_type": "code",
   "execution_count": 24,
   "metadata": {},
   "outputs": [
    {
     "name": "stdout",
     "output_type": "stream",
     "text": [
      "WARNING:tensorflow:From /Library/Frameworks/Python.framework/Versions/3.8/lib/python3.8/site-packages/tensorflow/python/training/tracking/tracking.py:111: Model.state_updates (from tensorflow.python.keras.engine.training) is deprecated and will be removed in a future version.\n",
      "Instructions for updating:\n",
      "This property should not be used in TensorFlow 2.0, as updates are applied automatically.\n",
      "WARNING:tensorflow:From /Library/Frameworks/Python.framework/Versions/3.8/lib/python3.8/site-packages/tensorflow/python/training/tracking/tracking.py:111: Layer.updates (from tensorflow.python.keras.engine.base_layer) is deprecated and will be removed in a future version.\n",
      "Instructions for updating:\n",
      "This property should not be used in TensorFlow 2.0, as updates are applied automatically.\n",
      "INFO:tensorflow:Assets written to: fashion_model_dropout.h5py/assets\n"
     ]
    }
   ],
   "source": [
    "fashion_model.save(\"fashion_model_dropout.h5py\")"
   ]
  },
  {
   "cell_type": "markdown",
   "metadata": {},
   "source": [
    "### Model Evaluation on the Test Set\n",
    "Finally, let's also evaluate your new model and see how it performs!"
   ]
  },
  {
   "cell_type": "markdown",
   "metadata": {},
   "source": [
    "#### Problem 12\n",
    "* Evaluate `fashion_model` on `test_X` and `test_Y_one_hot`\n",
    "* Save results to `test_eval`"
   ]
  },
  {
   "cell_type": "code",
   "execution_count": 25,
   "metadata": {},
   "outputs": [
    {
     "name": "stdout",
     "output_type": "stream",
     "text": [
      "313/313 [==============================] - 4s 12ms/step - loss: 0.2167 - accuracy: 0.9247\n"
     ]
    }
   ],
   "source": [
    "# Problem 12 Code below\n",
    "\n",
    "test_eval = fashion_model.evaluate(test_X,\n",
    "                                   test_Y_one_hot,\n",
    "                                   batch_size=32)\n"
   ]
  },
  {
   "cell_type": "code",
   "execution_count": 27,
   "metadata": {},
   "outputs": [
    {
     "name": "stdout",
     "output_type": "stream",
     "text": [
      "Test loss: 0.21672452986240387\n",
      "Test accuracy: 0.9247000217437744\n"
     ]
    }
   ],
   "source": [
    "print('Test loss:', test_eval[0])\n",
    "print('Test accuracy:', test_eval[1])"
   ]
  },
  {
   "cell_type": "markdown",
   "metadata": {},
   "source": [
    "Wow! Looks like adding Dropout in our model worked, even though the test accuracy did not improve significantly but the test loss decreased compared to the previous results.\n",
    "\n",
    "Now, let's plot the accuracy and loss plots between training and validation data for the one last time."
   ]
  },
  {
   "cell_type": "code",
   "execution_count": 29,
   "metadata": {},
   "outputs": [
    {
     "data": {
      "image/png": "[encoded data removed]",
      "text/plain": [
       "<Figure size 432x288 with 1 Axes>"
      ]
     },
     "metadata": {
      "needs_background": "light"
     },
     "output_type": "display_data"
    },
    {
     "data": {
      "image/png": "[encoded data removed]",
      "text/plain": [
       "<Figure size 432x288 with 1 Axes>"
      ]
     },
     "metadata": {
      "needs_background": "light"
     },
     "output_type": "display_data"
    }
   ],
   "source": [
    "accuracy = fashion_train_dropout.history['accuracy']\n",
    "val_accuracy = fashion_train_dropout.history['val_accuracy']\n",
    "loss = fashion_train_dropout.history['loss']\n",
    "val_loss = fashion_train_dropout.history['val_loss']\n",
    "epochs = range(len(accuracy))\n",
    "plt.plot(epochs, accuracy, 'bo', label='Training accuracy')\n",
    "plt.plot(epochs, val_accuracy, 'b', label='Validation accuracy')\n",
    "plt.title('Training and validation accuracy')\n",
    "plt.legend()\n",
    "plt.figure()\n",
    "plt.plot(epochs, loss, 'bo', label='Training loss')\n",
    "plt.plot(epochs, val_loss, 'b', label='Validation loss')\n",
    "plt.title('Training and validation loss')\n",
    "plt.legend()\n",
    "plt.show()"
   ]
  },
  {
   "cell_type": "markdown",
   "metadata": {},
   "source": [
    "Finally, you can see that the validation loss and validation accuracy both are in sync with the training loss and training accuracy. Even though the validation loss and accuracy line are not linear, but it shows that your model is not overfitting: the validation loss is decreasing and not increasing, and there is not much gap between training and validation accuracy.\n",
    "\n",
    "Therefore, you can say that your model's generalization capability became much better since the loss on both test set and validation set was only slightly more compared to the training loss."
   ]
  },
  {
   "cell_type": "markdown",
   "metadata": {},
   "source": [
    "### Predict Labels"
   ]
  },
  {
   "cell_type": "markdown",
   "metadata": {},
   "source": [
    "#### Problem 13\n",
    "* Predict labels for `test_X`\n",
    "* Save result to `predicted_classes`"
   ]
  },
  {
   "cell_type": "code",
   "execution_count": 30,
   "metadata": {},
   "outputs": [],
   "source": [
    "# Problem 13 Code below\n",
    "\n",
    "predicted_classes = fashion_model.predict(test_X, batch_size=32)"
   ]
  },
  {
   "cell_type": "markdown",
   "metadata": {},
   "source": [
    "Since the predictions you get are floating point values, it will not be feasible to compare the predicted labels with true test labels. So, you will round off the output which will convert the float values into an integer. Further, you will use `np.argmax()` to select the index number which has a higher value in a row.\n",
    "\n",
    "For example, let's assume a prediction for one test image to be `0 1 0 0 0 0 0 0 0 0`, the output for this should be a class label `1`."
   ]
  },
  {
   "cell_type": "code",
   "execution_count": 31,
   "metadata": {},
   "outputs": [],
   "source": [
    "predicted_classes = np.argmax(np.round(predicted_classes),axis=1)"
   ]
  },
  {
   "cell_type": "code",
   "execution_count": 32,
   "metadata": {},
   "outputs": [
    {
     "data": {
      "text/plain": [
       "((10000,), (10000,))"
      ]
     },
     "execution_count": 32,
     "metadata": {},
     "output_type": "execute_result"
    }
   ],
   "source": [
    "predicted_classes.shape, test_Y.shape"
   ]
  },
  {
   "cell_type": "code",
   "execution_count": 33,
   "metadata": {},
   "outputs": [
    {
     "name": "stdout",
     "output_type": "stream",
     "text": [
      "Found 9224 correct labels\n"
     ]
    },
    {
     "data": {
      "image/png": "[encoded data removed]",
      "text/plain": [
       "<Figure size 432x288 with 8 Axes>"
      ]
     },
     "metadata": {
      "needs_background": "light"
     },
     "output_type": "display_data"
    }
   ],
   "source": [
    "correct = np.where(predicted_classes==test_Y)[0]\n",
    "print(\"Found %d correct labels\" % len(correct))\n",
    "for i, correct in enumerate(correct[:9]):\n",
    "    plt.subplot(3,3,i+1)\n",
    "    plt.imshow(test_X[correct].reshape(28,28), cmap='gray', interpolation='none')\n",
    "    plt.title(\"Predicted {}, Class {}\".format(predicted_classes[correct], test_Y[correct]))\n",
    "    plt.tight_layout()"
   ]
  },
  {
   "cell_type": "code",
   "execution_count": 34,
   "metadata": {},
   "outputs": [
    {
     "name": "stdout",
     "output_type": "stream",
     "text": [
      "Found 776 incorrect labels\n"
     ]
    },
    {
     "data": {
      "image/png": "[encoded data removed]",
      "text/plain": [
       "<Figure size 432x288 with 8 Axes>"
      ]
     },
     "metadata": {
      "needs_background": "light"
     },
     "output_type": "display_data"
    }
   ],
   "source": [
    "incorrect = np.where(predicted_classes!=test_Y)[0]\n",
    "print(\"Found %d incorrect labels\" % len(incorrect))\n",
    "for i, incorrect in enumerate(incorrect[:9]):\n",
    "    plt.subplot(3,3,i+1)\n",
    "    plt.imshow(test_X[incorrect].reshape(28,28), cmap='gray', interpolation='none')\n",
    "    plt.title(\"Predicted {}, Class {}\".format(predicted_classes[incorrect], test_Y[incorrect]))\n",
    "    plt.tight_layout()"
   ]
  },
  {
   "cell_type": "markdown",
   "metadata": {},
   "source": [
    "By looking at a few images, you cannot be sure as to why your model is not able to classify the above images correctly, but it seems like a variety of the similar patterns present on multiple classes affect the performance of the classifier although CNN is a robust architecture. For example, images 5 and 6 both belong to different classes but look kind of similar maybe a jacket or perhaps a long sleeve shirt."
   ]
  },
  {
   "cell_type": "markdown",
   "metadata": {},
   "source": [
    "### Classification Report\n",
    "\n",
    "Classification report will help us in identifying the misclassified classes in more detail. You will be able to observe for which class the model performed bad out of the given ten classes."
   ]
  },
  {
   "cell_type": "code",
   "execution_count": 35,
   "metadata": {},
   "outputs": [
    {
     "name": "stdout",
     "output_type": "stream",
     "text": [
      "              precision    recall  f1-score   support\n",
      "\n",
      "     Class 0       0.80      0.90      0.85      1000\n",
      "     Class 1       0.99      0.99      0.99      1000\n",
      "     Class 2       0.89      0.88      0.88      1000\n",
      "     Class 3       0.95      0.90      0.92      1000\n",
      "     Class 4       0.87      0.91      0.89      1000\n",
      "     Class 5       0.99      0.98      0.98      1000\n",
      "     Class 6       0.83      0.73      0.77      1000\n",
      "     Class 7       0.96      0.98      0.97      1000\n",
      "     Class 8       0.99      0.99      0.99      1000\n",
      "     Class 9       0.97      0.97      0.97      1000\n",
      "\n",
      "    accuracy                           0.92     10000\n",
      "   macro avg       0.92      0.92      0.92     10000\n",
      "weighted avg       0.92      0.92      0.92     10000\n",
      "\n"
     ]
    }
   ],
   "source": [
    "from sklearn.metrics import classification_report\n",
    "target_names = [\"Class {}\".format(i) for i in range(num_classes)]\n",
    "print(classification_report(test_Y, predicted_classes, target_names=target_names))"
   ]
  },
  {
   "cell_type": "markdown",
   "metadata": {},
   "source": [
    "You can see that the classifier is underperforming for class 6 regarding both precision and recall. For class 0 and class 2, the classifier is lacking precision. Also, for class 4, the classifier is slightly lacking both precision and recall."
   ]
  },
  {
   "cell_type": "markdown",
   "metadata": {},
   "source": [
    "This tutorial was good start to convolutional neural networks in Python with Keras. If you were able to follow along easily or even with little more efforts, well done! Try doing some experiments maybe with same model architecture but using different types of public datasets available."
   ]
  },
  {
   "cell_type": "markdown",
   "metadata": {},
   "source": [
    "### Acknowledgements\n",
    "Adpated from: https://www.datacamp.com/community/blog/keras-cheat-sheet"
   ]
  }
 ],
 "metadata": {
  "kernelspec": {
   "display_name": "Python 3",
   "language": "python",
   "name": "python3"
  },
  "language_info": {
   "codemirror_mode": {
    "name": "ipython",
    "version": 3
   },
   "file_extension": ".py",
   "mimetype": "text/x-python",
   "name": "python",
   "nbconvert_exporter": "python",
   "pygments_lexer": "ipython3",
   "version": "3.8.1"
  }
 },
 "nbformat": 4,
 "nbformat_minor": 4
}
